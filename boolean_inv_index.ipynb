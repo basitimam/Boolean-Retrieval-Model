{
 "cells": [
  {
   "cell_type": "code",
   "execution_count": 1,
   "id": "annoying-colorado",
   "metadata": {},
   "outputs": [
    {
     "name": "stderr",
     "output_type": "stream",
     "text": [
      "[nltk_data] Downloading package punkt to\n",
      "[nltk_data]     C:\\Users\\92336\\AppData\\Roaming\\nltk_data...\n",
      "[nltk_data]   Package punkt is already up-to-date!\n"
     ]
    }
   ],
   "source": [
    "import nltk\n",
    "nltk.download('punkt')\n",
    "import csv\n",
    "import re\n",
    "from tkinter import *\n",
    "from nltk.stem import PorterStemmer\n"
   ]
  },
  {
   "cell_type": "code",
   "execution_count": null,
   "id": "solved-virtue",
   "metadata": {},
   "outputs": [],
   "source": []
  },
  {
   "cell_type": "code",
   "execution_count": null,
   "id": "activated-track",
   "metadata": {},
   "outputs": [],
   "source": []
  },
  {
   "cell_type": "code",
   "execution_count": null,
   "id": "infinite-debut",
   "metadata": {},
   "outputs": [],
   "source": [
    "\n"
   ]
  },
  {
   "cell_type": "code",
   "execution_count": 2,
   "id": "enormous-escape",
   "metadata": {},
   "outputs": [],
   "source": [
    "#Author :abdul basit\n",
    "\n",
    "\n",
    "def queryProcessor():\n",
    "    \n",
    "    query=block1.get()\n",
    "    #tokenization\n",
    "    queryTok=nltk.word_tokenize(query)\n",
    "    print(queryTok)\n",
    "    #preprocessing\n",
    "    removetable=str.maketrans(\"\", \"\", \"'!@#$%^&*()_=-\\|][:';:,<.>/?`~\")\n",
    "    queryTok=[x.translate(removetable) for x in queryTok]\n",
    "    \n",
    "  \n",
    "    queryTok=[element.lower() for element in queryTok]\n",
    "    #stemming the query \n",
    "    porter = PorterStemmer()\n",
    "    queryTok = [porter.stem(token) for token in queryTok]\n",
    "    \n",
    "    ans=[]\n",
    "    res=[]\n",
    "    \n",
    "    #if only single word in query\n",
    "    if len(queryTok) == 1:\n",
    "        try:\n",
    "            ans=dict[queryTok[0]]\n",
    "        except KeyError:\n",
    "            print(\"Key Error\")\n",
    "        if not ans:\n",
    "            print (\"no match\")\n",
    "\n",
    "        else:\n",
    "            print(ans)\n",
    "            \n",
    "        block2.delete(0,END)\n",
    "        block2.insert(15,ans)\n",
    "                \n",
    "        #if a multiple words query having boolean operations        \n",
    "    else:\n",
    "        x=0\n",
    "        for i in range(len(queryTok)):\n",
    "        \n",
    "            if (x>(len(queryTok))+i-3):\n",
    "                break   \n",
    "            if (queryTok[i]==\"not\" and queryTok[i+2]==\"and\"):\n",
    "                try:\n",
    "                    ans.append(set(dict[queryTok[i+3]])-(set(dict[queryTok[i+1]])))\n",
    "                except KeyError:\n",
    "                    print(\"key error\")\n",
    "                    ans.append([])\n",
    "                    \n",
    "            elif (queryTok[i]==\"not\" and queryTok[i+1]==\"not\"):\n",
    "                try:\n",
    "                    ans.append(set(dict[queryTok[i+2]]))\n",
    "                except KeyError:\n",
    "                    print(\"key Error\")\n",
    "                    ans.append([])\n",
    "        \n",
    "        \n",
    "            elif (queryTok[i+1]==\"not\"):\n",
    "                try:\n",
    "                    ans.append(set(dict[queryTok[i]])-(set(dict[queryTok[i+2]])))\n",
    "                except KeyError:\n",
    "                    print(\"Key Error\")\n",
    "                    ans.append([])\n",
    "\n",
    "                \n",
    "            elif (queryTok[i+1]==\"or\"):\n",
    "                try:\n",
    "                    res=set(dict[queryTok[i]]).union(set(dict[queryTok[i+2]]))\n",
    "                    ans.append(res)\n",
    "                except KeyError:\n",
    "                    print(\"Key Error\")\n",
    "                    ans.append([])\n",
    "            \n",
    "    \n",
    "            elif (queryTok[i+1]==\"and\"):\n",
    "                try:\n",
    "                    res=set(dict[queryTok[i]]).intersection(set(dict[queryTok[i+2]]))\n",
    "                    ans.append(res)\n",
    "                except KeyError:\n",
    "                    print(\"Key Error\")\n",
    "                    ans.append([])\n",
    "                    \n",
    "            x=x+2\n",
    "            \n",
    "            #appending answers \n",
    "        ans=sorted(ans)\n",
    "        print(ans[-1])\n",
    "        block2.delete(0,END)\n",
    "        block2.insert(15,ans[-1])"
   ]
  },
  {
   "cell_type": "code",
   "execution_count": 3,
   "id": "residential-reunion",
   "metadata": {},
   "outputs": [],
   "source": [
    "#getting documents \n",
    "files={}\n",
    "for x in range(50):\n",
    "    x=x+1\n",
    "    files[x]= open(\"\"+str(x)+\".txt\",encoding='utf-8').read()\n",
    "\n",
    "        \n",
    "#concatinating all files in concatFile\n",
    "concatFile=\"\"\n",
    "for x in range(50):\n",
    "    x=x+1\n",
    "    concatFile=concatFile+\" \\n\"+files[x]\n",
    "        \n",
    "#Tokenizing\n",
    "tokens=nltk.word_tokenize(concatFile)\n",
    "     \n",
    "tokens=list(set(tokens))\n",
    "    \n",
    "#Removing Special characters\n",
    "removetable=str.maketrans(\"\", \"\", \"'!@#$%^&*()_=-\\|][:';:,<.>/?`~\")\n",
    "tokens=[x.translate(removetable) for x in tokens]\n",
    "    \n",
    "stopWord=open(\"Stopword-List.txt\").read()\n",
    "stopWord=nltk.word_tokenize(stopWord)\n",
    "\n",
    "#removing stopwords\n",
    "tokens=set(tokens)-set(stopWord)\n",
    "tokens=list(tokens)\n",
    "    \n",
    "tokens=[element.lower() for element in tokens]\n",
    "\n",
    "tokens=sorted(tokens)\n",
    "\n",
    "#stemming tokens \n",
    "porter = PorterStemmer()\n",
    "tokens = [porter.stem(token) for token in tokens]\n",
    "#tokenizing document wise\n",
    "DocumentTok={}\n",
    "for x in range(50):\n",
    "    x=x+1\n",
    "    DocumentTok[x]=nltk.word_tokenize(files[x])\n",
    "        \n",
    "\n",
    "for x in range(50):\n",
    "    x=x+1\n",
    "    DocumentTok[x]=set(DocumentTok[x])\n",
    "    DocumentTok[x]=list(DocumentTok[x])\n",
    "        \n",
    "#removing special characters \n",
    "removetable=str.maketrans(\"\", \"\", \"'!@#$%^&*()_=-\\|][:';:,<.>/?`~\")\n",
    "for x in range(50):\n",
    "    x=x+1\n",
    "    DocumentTok[x]=[y.translate(removetable) for y in DocumentTok[x]]\n",
    "        \n",
    "for x in range(50):\n",
    "        x=x+1\n",
    "        DocumentTok[x]=sorted(DocumentTok[x])\n",
    "        \n",
    "#Decaptilized document tokens\n",
    "for x in range(50):\n",
    "    x=x+1\n",
    "    DocumentTok[x]=[element.lower() for element in DocumentTok[x]]\n",
    "    \n",
    "for x in range(50):\n",
    "    x=x+1\n",
    "    DocumentTok[x]=[porter.stem(token) for token in DocumentTok[x]]\n",
    "    \n",
    "\n",
    "postinglist={}\n",
    "lst=[]\n",
    "    \n",
    "count=0\n",
    "#generating posting lists \n",
    "for x in range(len(tokens)):\n",
    "    lst=[]\n",
    "    for y in range(50):\n",
    "        y=y+1\n",
    "        \n",
    "        if tokens[x] in DocumentTok[y]:\n",
    "            lst.append(y)\n",
    "            \n",
    "    postinglist[x]=lst\n",
    "#genertaing dictionary   \n",
    "dict={}\n",
    "for x in range(len(tokens)):\n",
    "    dict.update({tokens[x]:postinglist[x]})\n",
    "    \n"
   ]
  },
  {
   "cell_type": "code",
   "execution_count": 6,
   "id": "lined-conversion",
   "metadata": {},
   "outputs": [
    {
     "name": "stdout",
     "output_type": "stream",
     "text": [
      "['battery']\n",
      "Key Error\n",
      "no match\n",
      "['battery']\n",
      "Key Error\n",
      "no match\n",
      "['battery']\n",
      "Key Error\n",
      "no match\n",
      "['bacteria']\n",
      "Key Error\n",
      "no match\n",
      "['batery']\n",
      "Key Error\n",
      "no match\n",
      "['run']\n",
      "[2, 3, 4, 6, 7, 11, 13, 21, 23, 25, 26, 27, 33, 35, 39, 43, 45]\n",
      "['not', 'run']\n"
     ]
    },
    {
     "name": "stderr",
     "output_type": "stream",
     "text": [
      "Exception in Tkinter callback\n",
      "Traceback (most recent call last):\n",
      "  File \"c:\\users\\92336\\appdata\\local\\programs\\python\\python39\\lib\\tkinter\\__init__.py\", line 1884, in __call__\n",
      "    return self.func(*args)\n",
      "  File \"<ipython-input-2-b27d6a9757d4>\", line 89, in queryProcessor\n",
      "    print(ans[-1])\n",
      "IndexError: list index out of range\n"
     ]
    },
    {
     "name": "stdout",
     "output_type": "stream",
     "text": [
      "['not', 'run']\n"
     ]
    },
    {
     "name": "stderr",
     "output_type": "stream",
     "text": [
      "Exception in Tkinter callback\n",
      "Traceback (most recent call last):\n",
      "  File \"c:\\users\\92336\\appdata\\local\\programs\\python\\python39\\lib\\tkinter\\__init__.py\", line 1884, in __call__\n",
      "    return self.func(*args)\n",
      "  File \"<ipython-input-2-b27d6a9757d4>\", line 89, in queryProcessor\n",
      "    print(ans[-1])\n",
      "IndexError: list index out of range\n"
     ]
    },
    {
     "name": "stdout",
     "output_type": "stream",
     "text": [
      "['not', 'run']\n"
     ]
    },
    {
     "name": "stderr",
     "output_type": "stream",
     "text": [
      "Exception in Tkinter callback\n",
      "Traceback (most recent call last):\n",
      "  File \"c:\\users\\92336\\appdata\\local\\programs\\python\\python39\\lib\\tkinter\\__init__.py\", line 1884, in __call__\n",
      "    return self.func(*args)\n",
      "  File \"<ipython-input-2-b27d6a9757d4>\", line 89, in queryProcessor\n",
      "    print(ans[-1])\n",
      "IndexError: list index out of range\n"
     ]
    },
    {
     "name": "stdout",
     "output_type": "stream",
     "text": [
      "['not', 'run']\n",
      "['not', 'run']\n"
     ]
    },
    {
     "name": "stderr",
     "output_type": "stream",
     "text": [
      "Exception in Tkinter callback\n",
      "Traceback (most recent call last):\n",
      "  File \"c:\\users\\92336\\appdata\\local\\programs\\python\\python39\\lib\\tkinter\\__init__.py\", line 1884, in __call__\n",
      "    return self.func(*args)\n",
      "  File \"<ipython-input-2-b27d6a9757d4>\", line 89, in queryProcessor\n",
      "    print(ans[-1])\n",
      "IndexError: list index out of range\n",
      "Exception in Tkinter callback\n",
      "Traceback (most recent call last):\n",
      "  File \"c:\\users\\92336\\appdata\\local\\programs\\python\\python39\\lib\\tkinter\\__init__.py\", line 1884, in __call__\n",
      "    return self.func(*args)\n",
      "  File \"<ipython-input-2-b27d6a9757d4>\", line 89, in queryProcessor\n",
      "    print(ans[-1])\n",
      "IndexError: list index out of range\n"
     ]
    },
    {
     "name": "stdout",
     "output_type": "stream",
     "text": [
      "['not', 'run']\n"
     ]
    },
    {
     "name": "stderr",
     "output_type": "stream",
     "text": [
      "Exception in Tkinter callback\n",
      "Traceback (most recent call last):\n",
      "  File \"c:\\users\\92336\\appdata\\local\\programs\\python\\python39\\lib\\tkinter\\__init__.py\", line 1884, in __call__\n",
      "    return self.func(*args)\n",
      "  File \"<ipython-input-2-b27d6a9757d4>\", line 89, in queryProcessor\n",
      "    print(ans[-1])\n",
      "IndexError: list index out of range\n"
     ]
    },
    {
     "name": "stdout",
     "output_type": "stream",
     "text": [
      "['not', 'run']\n"
     ]
    },
    {
     "name": "stderr",
     "output_type": "stream",
     "text": [
      "Exception in Tkinter callback\n",
      "Traceback (most recent call last):\n",
      "  File \"c:\\users\\92336\\appdata\\local\\programs\\python\\python39\\lib\\tkinter\\__init__.py\", line 1884, in __call__\n",
      "    return self.func(*args)\n",
      "  File \"<ipython-input-2-b27d6a9757d4>\", line 89, in queryProcessor\n",
      "    print(ans[-1])\n",
      "IndexError: list index out of range\n"
     ]
    },
    {
     "name": "stdout",
     "output_type": "stream",
     "text": [
      "['not', 'run']\n",
      "['not', 'run']\n"
     ]
    },
    {
     "name": "stderr",
     "output_type": "stream",
     "text": [
      "Exception in Tkinter callback\n",
      "Traceback (most recent call last):\n",
      "  File \"c:\\users\\92336\\appdata\\local\\programs\\python\\python39\\lib\\tkinter\\__init__.py\", line 1884, in __call__\n",
      "    return self.func(*args)\n",
      "  File \"<ipython-input-2-b27d6a9757d4>\", line 89, in queryProcessor\n",
      "    print(ans[-1])\n",
      "IndexError: list index out of range\n",
      "Exception in Tkinter callback\n",
      "Traceback (most recent call last):\n",
      "  File \"c:\\users\\92336\\appdata\\local\\programs\\python\\python39\\lib\\tkinter\\__init__.py\", line 1884, in __call__\n",
      "    return self.func(*args)\n",
      "  File \"<ipython-input-2-b27d6a9757d4>\", line 89, in queryProcessor\n",
      "    print(ans[-1])\n",
      "IndexError: list index out of range\n"
     ]
    },
    {
     "name": "stdout",
     "output_type": "stream",
     "text": [
      "['not', 'run']\n",
      "['not', 'run']\n"
     ]
    },
    {
     "name": "stderr",
     "output_type": "stream",
     "text": [
      "Exception in Tkinter callback\n",
      "Traceback (most recent call last):\n",
      "  File \"c:\\users\\92336\\appdata\\local\\programs\\python\\python39\\lib\\tkinter\\__init__.py\", line 1884, in __call__\n",
      "    return self.func(*args)\n",
      "  File \"<ipython-input-2-b27d6a9757d4>\", line 89, in queryProcessor\n",
      "    print(ans[-1])\n",
      "IndexError: list index out of range\n",
      "Exception in Tkinter callback\n",
      "Traceback (most recent call last):\n",
      "  File \"c:\\users\\92336\\appdata\\local\\programs\\python\\python39\\lib\\tkinter\\__init__.py\", line 1884, in __call__\n",
      "    return self.func(*args)\n",
      "  File \"<ipython-input-2-b27d6a9757d4>\", line 89, in queryProcessor\n",
      "    print(ans[-1])\n",
      "IndexError: list index out of range\n"
     ]
    },
    {
     "name": "stdout",
     "output_type": "stream",
     "text": [
      "['not', 'run']\n"
     ]
    },
    {
     "name": "stderr",
     "output_type": "stream",
     "text": [
      "Exception in Tkinter callback\n",
      "Traceback (most recent call last):\n",
      "  File \"c:\\users\\92336\\appdata\\local\\programs\\python\\python39\\lib\\tkinter\\__init__.py\", line 1884, in __call__\n",
      "    return self.func(*args)\n",
      "  File \"<ipython-input-2-b27d6a9757d4>\", line 89, in queryProcessor\n",
      "    print(ans[-1])\n",
      "IndexError: list index out of range\n"
     ]
    },
    {
     "name": "stdout",
     "output_type": "stream",
     "text": [
      "['not', 'run']\n"
     ]
    },
    {
     "name": "stderr",
     "output_type": "stream",
     "text": [
      "Exception in Tkinter callback\n",
      "Traceback (most recent call last):\n",
      "  File \"c:\\users\\92336\\appdata\\local\\programs\\python\\python39\\lib\\tkinter\\__init__.py\", line 1884, in __call__\n",
      "    return self.func(*args)\n",
      "  File \"<ipython-input-2-b27d6a9757d4>\", line 89, in queryProcessor\n",
      "    print(ans[-1])\n",
      "IndexError: list index out of range\n"
     ]
    },
    {
     "name": "stdout",
     "output_type": "stream",
     "text": [
      "['not', 'not', 'run']\n",
      "{33, 2, 3, 4, 35, 6, 7, 39, 11, 43, 13, 45, 21, 23, 25, 26, 27}\n",
      "['not', 'beard']\n"
     ]
    },
    {
     "name": "stderr",
     "output_type": "stream",
     "text": [
      "Exception in Tkinter callback\n",
      "Traceback (most recent call last):\n",
      "  File \"c:\\users\\92336\\appdata\\local\\programs\\python\\python39\\lib\\tkinter\\__init__.py\", line 1884, in __call__\n",
      "    return self.func(*args)\n",
      "  File \"<ipython-input-2-b27d6a9757d4>\", line 89, in queryProcessor\n",
      "    print(ans[-1])\n",
      "IndexError: list index out of range\n"
     ]
    },
    {
     "name": "stdout",
     "output_type": "stream",
     "text": [
      "['not', 'beard']\n",
      "['not', 'beard']\n"
     ]
    },
    {
     "name": "stderr",
     "output_type": "stream",
     "text": [
      "Exception in Tkinter callback\n",
      "Traceback (most recent call last):\n",
      "  File \"c:\\users\\92336\\appdata\\local\\programs\\python\\python39\\lib\\tkinter\\__init__.py\", line 1884, in __call__\n",
      "    return self.func(*args)\n",
      "  File \"<ipython-input-2-b27d6a9757d4>\", line 89, in queryProcessor\n",
      "    print(ans[-1])\n",
      "IndexError: list index out of range\n",
      "Exception in Tkinter callback\n",
      "Traceback (most recent call last):\n",
      "  File \"c:\\users\\92336\\appdata\\local\\programs\\python\\python39\\lib\\tkinter\\__init__.py\", line 1884, in __call__\n",
      "    return self.func(*args)\n",
      "  File \"<ipython-input-2-b27d6a9757d4>\", line 89, in queryProcessor\n",
      "    print(ans[-1])\n",
      "IndexError: list index out of range\n"
     ]
    },
    {
     "name": "stdout",
     "output_type": "stream",
     "text": [
      "['not', 'beard']\n"
     ]
    },
    {
     "name": "stderr",
     "output_type": "stream",
     "text": [
      "Exception in Tkinter callback\n",
      "Traceback (most recent call last):\n",
      "  File \"c:\\users\\92336\\appdata\\local\\programs\\python\\python39\\lib\\tkinter\\__init__.py\", line 1884, in __call__\n",
      "    return self.func(*args)\n",
      "  File \"<ipython-input-2-b27d6a9757d4>\", line 89, in queryProcessor\n",
      "    print(ans[-1])\n",
      "IndexError: list index out of range\n"
     ]
    },
    {
     "name": "stdout",
     "output_type": "stream",
     "text": [
      "['not', 'beard']\n"
     ]
    },
    {
     "name": "stderr",
     "output_type": "stream",
     "text": [
      "Exception in Tkinter callback\n",
      "Traceback (most recent call last):\n",
      "  File \"c:\\users\\92336\\appdata\\local\\programs\\python\\python39\\lib\\tkinter\\__init__.py\", line 1884, in __call__\n",
      "    return self.func(*args)\n",
      "  File \"<ipython-input-2-b27d6a9757d4>\", line 89, in queryProcessor\n",
      "    print(ans[-1])\n",
      "IndexError: list index out of range\n"
     ]
    },
    {
     "name": "stdout",
     "output_type": "stream",
     "text": [
      "['beard']\n",
      "[1, 2, 4, 6, 11, 20, 21, 23, 25, 26, 31, 34, 40, 44]\n",
      "['not', 'beard']\n"
     ]
    },
    {
     "name": "stderr",
     "output_type": "stream",
     "text": [
      "Exception in Tkinter callback\n",
      "Traceback (most recent call last):\n",
      "  File \"c:\\users\\92336\\appdata\\local\\programs\\python\\python39\\lib\\tkinter\\__init__.py\", line 1884, in __call__\n",
      "    return self.func(*args)\n",
      "  File \"<ipython-input-2-b27d6a9757d4>\", line 89, in queryProcessor\n",
      "    print(ans[-1])\n",
      "IndexError: list index out of range\n"
     ]
    },
    {
     "name": "stdout",
     "output_type": "stream",
     "text": [
      "['not', 'beard']\n",
      "['not', 'beard']\n"
     ]
    },
    {
     "name": "stderr",
     "output_type": "stream",
     "text": [
      "Exception in Tkinter callback\n",
      "Traceback (most recent call last):\n",
      "  File \"c:\\users\\92336\\appdata\\local\\programs\\python\\python39\\lib\\tkinter\\__init__.py\", line 1884, in __call__\n",
      "    return self.func(*args)\n",
      "  File \"<ipython-input-2-b27d6a9757d4>\", line 89, in queryProcessor\n",
      "    print(ans[-1])\n",
      "IndexError: list index out of range\n",
      "Exception in Tkinter callback\n",
      "Traceback (most recent call last):\n",
      "  File \"c:\\users\\92336\\appdata\\local\\programs\\python\\python39\\lib\\tkinter\\__init__.py\", line 1884, in __call__\n",
      "    return self.func(*args)\n",
      "  File \"<ipython-input-2-b27d6a9757d4>\", line 89, in queryProcessor\n",
      "    print(ans[-1])\n",
      "IndexError: list index out of range\n"
     ]
    },
    {
     "name": "stdout",
     "output_type": "stream",
     "text": [
      "['not', 'beard']\n"
     ]
    },
    {
     "name": "stderr",
     "output_type": "stream",
     "text": [
      "Exception in Tkinter callback\n",
      "Traceback (most recent call last):\n",
      "  File \"c:\\users\\92336\\appdata\\local\\programs\\python\\python39\\lib\\tkinter\\__init__.py\", line 1884, in __call__\n",
      "    return self.func(*args)\n",
      "  File \"<ipython-input-2-b27d6a9757d4>\", line 89, in queryProcessor\n",
      "    print(ans[-1])\n",
      "IndexError: list index out of range\n"
     ]
    }
   ],
   "source": [
    "#run this section\n",
    "\n",
    "gui = Tk()\n",
    "gui.geometry('1000x200')\n",
    "gui.title(\"Information Retrieval System\")\n",
    "gui.configure(bg='black')\n",
    "Label(gui, text=\"RUN SIMPLE BOOLEAN QUERIES: \",fg=\"red\",bg=\"black\",width=40,font=(\"bold\", 10),padx=10, pady=10).grid(row=0)\n",
    "Label(gui, text=\"Enter Query: \",fg=\"red\",bg=\"black\",width=40,font=(\"bold\", 10),padx=10, pady=10).grid(row=1)\n",
    "Label(gui, text=\"Result-docIDs:\",fg=\"red\",bg=\"black\",width=20,font=(\"bold\", 10),padx=10, pady=10).grid(row=2)\n",
    "\n",
    "block1 = Entry(gui,width=100)\n",
    "block2 = Entry(gui,width=100) \n",
    "\n",
    "\n",
    "block1.grid(row=1, column=1)\n",
    "block2.grid(row=2, column=1)\n",
    "\n",
    "Button(gui, text='Search', command=queryProcessor).grid(row=4, column=1, sticky=W, pady=4)\n",
    "\n",
    "mainloop( )"
   ]
  },
  {
   "cell_type": "code",
   "execution_count": null,
   "id": "seventh-candle",
   "metadata": {},
   "outputs": [],
   "source": []
  },
  {
   "cell_type": "code",
   "execution_count": null,
   "id": "worse-wiring",
   "metadata": {},
   "outputs": [],
   "source": []
  },
  {
   "cell_type": "code",
   "execution_count": null,
   "id": "opponent-transcription",
   "metadata": {},
   "outputs": [],
   "source": []
  },
  {
   "cell_type": "code",
   "execution_count": null,
   "id": "cardiac-linux",
   "metadata": {},
   "outputs": [],
   "source": []
  },
  {
   "cell_type": "code",
   "execution_count": null,
   "id": "median-omaha",
   "metadata": {},
   "outputs": [],
   "source": []
  },
  {
   "cell_type": "code",
   "execution_count": null,
   "id": "mighty-sensitivity",
   "metadata": {},
   "outputs": [],
   "source": []
  },
  {
   "cell_type": "code",
   "execution_count": null,
   "id": "existing-affiliation",
   "metadata": {},
   "outputs": [],
   "source": []
  },
  {
   "cell_type": "code",
   "execution_count": null,
   "id": "palestinian-jerusalem",
   "metadata": {},
   "outputs": [],
   "source": []
  },
  {
   "cell_type": "code",
   "execution_count": null,
   "id": "negative-allah",
   "metadata": {},
   "outputs": [],
   "source": []
  },
  {
   "cell_type": "code",
   "execution_count": null,
   "id": "amateur-thong",
   "metadata": {},
   "outputs": [],
   "source": []
  },
  {
   "cell_type": "code",
   "execution_count": null,
   "id": "chemical-federal",
   "metadata": {},
   "outputs": [],
   "source": []
  },
  {
   "cell_type": "code",
   "execution_count": null,
   "id": "exposed-calendar",
   "metadata": {},
   "outputs": [],
   "source": []
  },
  {
   "cell_type": "code",
   "execution_count": null,
   "id": "medium-seeking",
   "metadata": {},
   "outputs": [],
   "source": []
  },
  {
   "cell_type": "code",
   "execution_count": null,
   "id": "variable-rebecca",
   "metadata": {},
   "outputs": [],
   "source": []
  },
  {
   "cell_type": "code",
   "execution_count": null,
   "id": "associate-argument",
   "metadata": {},
   "outputs": [],
   "source": []
  },
  {
   "cell_type": "code",
   "execution_count": null,
   "id": "insured-opposition",
   "metadata": {},
   "outputs": [],
   "source": []
  },
  {
   "cell_type": "code",
   "execution_count": null,
   "id": "unnecessary-manitoba",
   "metadata": {},
   "outputs": [],
   "source": []
  },
  {
   "cell_type": "code",
   "execution_count": null,
   "id": "cross-mechanics",
   "metadata": {},
   "outputs": [],
   "source": []
  },
  {
   "cell_type": "code",
   "execution_count": null,
   "id": "stopped-insurance",
   "metadata": {},
   "outputs": [],
   "source": []
  },
  {
   "cell_type": "code",
   "execution_count": null,
   "id": "sufficient-works",
   "metadata": {},
   "outputs": [],
   "source": []
  },
  {
   "cell_type": "code",
   "execution_count": null,
   "id": "creative-purchase",
   "metadata": {},
   "outputs": [],
   "source": []
  },
  {
   "cell_type": "code",
   "execution_count": null,
   "id": "apart-engagement",
   "metadata": {},
   "outputs": [],
   "source": []
  },
  {
   "cell_type": "code",
   "execution_count": null,
   "id": "golden-revolution",
   "metadata": {},
   "outputs": [],
   "source": []
  },
  {
   "cell_type": "code",
   "execution_count": null,
   "id": "focal-monroe",
   "metadata": {},
   "outputs": [],
   "source": []
  },
  {
   "cell_type": "code",
   "execution_count": null,
   "id": "recovered-prison",
   "metadata": {},
   "outputs": [],
   "source": []
  },
  {
   "cell_type": "code",
   "execution_count": null,
   "id": "relative-handle",
   "metadata": {},
   "outputs": [],
   "source": []
  },
  {
   "cell_type": "code",
   "execution_count": null,
   "id": "valid-feeling",
   "metadata": {},
   "outputs": [],
   "source": []
  },
  {
   "cell_type": "code",
   "execution_count": null,
   "id": "dangerous-atlanta",
   "metadata": {},
   "outputs": [],
   "source": []
  },
  {
   "cell_type": "code",
   "execution_count": null,
   "id": "conventional-locking",
   "metadata": {},
   "outputs": [],
   "source": []
  },
  {
   "cell_type": "code",
   "execution_count": null,
   "id": "neither-representation",
   "metadata": {},
   "outputs": [],
   "source": []
  },
  {
   "cell_type": "code",
   "execution_count": null,
   "id": "infectious-tiger",
   "metadata": {},
   "outputs": [],
   "source": []
  },
  {
   "cell_type": "code",
   "execution_count": null,
   "id": "weird-elevation",
   "metadata": {},
   "outputs": [],
   "source": []
  },
  {
   "cell_type": "code",
   "execution_count": null,
   "id": "judicial-culture",
   "metadata": {},
   "outputs": [],
   "source": []
  },
  {
   "cell_type": "code",
   "execution_count": null,
   "id": "historical-deployment",
   "metadata": {},
   "outputs": [],
   "source": []
  },
  {
   "cell_type": "code",
   "execution_count": null,
   "id": "married-sender",
   "metadata": {},
   "outputs": [],
   "source": []
  },
  {
   "cell_type": "code",
   "execution_count": null,
   "id": "soviet-repair",
   "metadata": {},
   "outputs": [],
   "source": []
  },
  {
   "cell_type": "code",
   "execution_count": null,
   "id": "tracked-glance",
   "metadata": {},
   "outputs": [],
   "source": []
  },
  {
   "cell_type": "code",
   "execution_count": null,
   "id": "varying-trust",
   "metadata": {},
   "outputs": [],
   "source": []
  },
  {
   "cell_type": "code",
   "execution_count": null,
   "id": "liable-incentive",
   "metadata": {},
   "outputs": [],
   "source": []
  },
  {
   "cell_type": "code",
   "execution_count": null,
   "id": "adopted-worse",
   "metadata": {},
   "outputs": [],
   "source": []
  },
  {
   "cell_type": "code",
   "execution_count": null,
   "id": "phantom-badge",
   "metadata": {},
   "outputs": [],
   "source": []
  },
  {
   "cell_type": "code",
   "execution_count": null,
   "id": "informal-asset",
   "metadata": {},
   "outputs": [],
   "source": []
  },
  {
   "cell_type": "code",
   "execution_count": null,
   "id": "fiscal-moscow",
   "metadata": {},
   "outputs": [],
   "source": []
  },
  {
   "cell_type": "code",
   "execution_count": null,
   "id": "previous-continent",
   "metadata": {},
   "outputs": [],
   "source": []
  },
  {
   "cell_type": "code",
   "execution_count": null,
   "id": "instrumental-interim",
   "metadata": {},
   "outputs": [],
   "source": []
  },
  {
   "cell_type": "code",
   "execution_count": null,
   "id": "exterior-rates",
   "metadata": {},
   "outputs": [],
   "source": []
  },
  {
   "cell_type": "code",
   "execution_count": null,
   "id": "immune-disclosure",
   "metadata": {},
   "outputs": [],
   "source": []
  }
 ],
 "metadata": {
  "kernelspec": {
   "display_name": "Python 3",
   "language": "python",
   "name": "python3"
  },
  "language_info": {
   "codemirror_mode": {
    "name": "ipython",
    "version": 3
   },
   "file_extension": ".py",
   "mimetype": "text/x-python",
   "name": "python",
   "nbconvert_exporter": "python",
   "pygments_lexer": "ipython3",
   "version": "3.9.1"
  }
 },
 "nbformat": 4,
 "nbformat_minor": 5
}
